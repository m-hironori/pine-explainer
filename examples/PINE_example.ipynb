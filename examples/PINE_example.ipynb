{
 "cells": [
  {
   "cell_type": "markdown",
   "metadata": {},
   "source": [
    "# Example for using PINE"
   ]
  },
  {
   "cell_type": "markdown",
   "metadata": {},
   "source": [
    "PINE(Pair INterpretation for Entity matching) is an explainable entity matching algorithm.\n",
    "\n",
    "PINE takes two records(entities) as input, and outputs correlated token pairs as an explanation for an entity-matching decision."
   ]
  },
  {
   "cell_type": "markdown",
   "metadata": {},
   "source": [
    "## Install"
   ]
  },
  {
   "cell_type": "markdown",
   "metadata": {},
   "source": [
    "```bash\n",
    "git clone https://github.com/m-hironori/pine-explainer.git\n",
    "pip install .\n",
    "```"
   ]
  },
  {
   "cell_type": "markdown",
   "metadata": {},
   "source": [
    "## Advance preparation"
   ]
  },
  {
   "cell_type": "markdown",
   "metadata": {},
   "source": [
    "### Making your entity matching model in your dataset\n",
    "\n",
    "PINE can explain arbitrary entity matching models.\n",
    "You can make your model to analyze by PINE.\n",
    "\n",
    "In the experiments, we tried `DITTO` model and `py_entitymatching` model in `Magellan Datasets` by using `lemmon` module.\n",
    "You can see how we make model at [make_DITTO_model_by_lemon.ipynb](make_DITTO_model_by_lemon.ipynb) and [make_py_entitymatching_model_by_lemon.ipynb](make_py_entitymatching_model_by_lemon.ipynb)\n",
    "\n",
    "In this example, we use one entity matching model (`py_entitymatching` model for `Structureed Anazon-Google` dataset) in the experiments.\n",
    "\n",
    "You can download this model from here and set `data/model/magellan/structured_amazon_google` directory."
   ]
  },
  {
   "cell_type": "markdown",
   "metadata": {},
   "source": [
    "### Converting your entity matching function to PINE's function\n",
    "\n",
    "PINE can recognize your entity matching function by converting PINE's function format.\n",
    "\n",
    "```python\n",
    "def your_proba_func(\n",
    "        records_a: pandas.DataFrame,\n",
    "        records_b: pandas.DataFrame,\n",
    "        record_id_pairs: pandas.DataFrame,\n",
    ")->pandas.Series:\n",
    "   '''Input two entities data, Calc the score.\n",
    "\n",
    "   Arguments:\n",
    "        records_a: Entities data in one dataset( index is required) \n",
    "        records_b: Entities data in one dataset( index is required) \n",
    "        record_id_pairs: Entity pairs between records_a and records_b(index is required)\n",
    "    Return:\n",
    "        pandas.Series: socres (-1 <= score <= 1) \n",
    "```\n",
    "\n",
    "`DITTO` function and `py_entitymatching` function have been prepared in PINE (here and here).\n",
    "In this example use these functions. "
   ]
  },
  {
   "cell_type": "code",
   "execution_count": 8,
   "metadata": {},
   "outputs": [],
   "source": [
    "# Load entity maching function\n",
    "from pine.matcher.magellan_matcher import make_magellan_matcher_func\n",
    "from pine.matcher.transformer_matcher import make_transformer_matcher_func\n",
    "\n",
    "\n",
    "model_root_dir = \"data/model\"\n",
    "target_dataset_name = \"structured_amazon_google\"\n",
    "\n",
    "# proba_fn = make_magellan_matcher_func(target_dataset_name, model_root_dir)\n",
    "proba_fn = make_transformer_matcher_func(target_dataset_name, model_root_dir)\n"
   ]
  },
  {
   "cell_type": "markdown",
   "metadata": {},
   "source": [
    "## Explain py PINE"
   ]
  },
  {
   "cell_type": "markdown",
   "metadata": {},
   "source": [
    "### Convering your data to PINE's data format\n",
    "\n",
    "Your data have to be converted to PINE's data format.\n",
    "\n",
    "- Single row of `pandas.Dataframe` as one your record(one your entity)\n",
    "\n",
    "In this example, we use lemon dataset which is represented as `pandas.Dataframe`.\n",
    "`pine-explainer` package contains useful function the lemon dataset."
   ]
  },
  {
   "cell_type": "code",
   "execution_count": 9,
   "metadata": {},
   "outputs": [
    {
     "name": "stdout",
     "output_type": "stream",
     "text": [
      "Dataset a\n"
     ]
    },
    {
     "data": {
      "text/html": [
       "<div>\n",
       "<style scoped>\n",
       "    .dataframe tbody tr th:only-of-type {\n",
       "        vertical-align: middle;\n",
       "    }\n",
       "\n",
       "    .dataframe tbody tr th {\n",
       "        vertical-align: top;\n",
       "    }\n",
       "\n",
       "    .dataframe thead th {\n",
       "        text-align: right;\n",
       "    }\n",
       "</style>\n",
       "<table border=\"1\" class=\"dataframe\">\n",
       "  <thead>\n",
       "    <tr style=\"text-align: right;\">\n",
       "      <th></th>\n",
       "      <th>title</th>\n",
       "      <th>manufacturer</th>\n",
       "      <th>price</th>\n",
       "    </tr>\n",
       "    <tr>\n",
       "      <th>__id</th>\n",
       "      <th></th>\n",
       "      <th></th>\n",
       "      <th></th>\n",
       "    </tr>\n",
       "  </thead>\n",
       "  <tbody>\n",
       "    <tr>\n",
       "      <th>0</th>\n",
       "      <td>clickart 950 000 premier image pack ( dvd-rom )</td>\n",
       "      <td>broderbund</td>\n",
       "      <td>&lt;NA&gt;</td>\n",
       "    </tr>\n",
       "    <tr>\n",
       "      <th>1</th>\n",
       "      <td>ca international arcserve lap/desktop oem 30pk</td>\n",
       "      <td>computer associates</td>\n",
       "      <td>&lt;NA&gt;</td>\n",
       "    </tr>\n",
       "    <tr>\n",
       "      <th>2</th>\n",
       "      <td>noah 's ark activity center ( jewel case ages 3-8 )</td>\n",
       "      <td>victory multimedia</td>\n",
       "      <td>&lt;NA&gt;</td>\n",
       "    </tr>\n",
       "    <tr>\n",
       "      <th>3</th>\n",
       "      <td>peachtree by sage premium accounting for nonprofits 2007</td>\n",
       "      <td>sage software</td>\n",
       "      <td>599.99</td>\n",
       "    </tr>\n",
       "    <tr>\n",
       "      <th>4</th>\n",
       "      <td>singing coach unlimited</td>\n",
       "      <td>carry-a-tune technologies</td>\n",
       "      <td>99.99</td>\n",
       "    </tr>\n",
       "  </tbody>\n",
       "</table>\n",
       "</div>"
      ],
      "text/plain": [
       "                                                         title  \\\n",
       "__id                                                             \n",
       "0              clickart 950 000 premier image pack ( dvd-rom )   \n",
       "1               ca international arcserve lap/desktop oem 30pk   \n",
       "2          noah 's ark activity center ( jewel case ages 3-8 )   \n",
       "3     peachtree by sage premium accounting for nonprofits 2007   \n",
       "4                                      singing coach unlimited   \n",
       "\n",
       "                   manufacturer   price  \n",
       "__id                                     \n",
       "0                    broderbund    <NA>  \n",
       "1           computer associates    <NA>  \n",
       "2            victory multimedia    <NA>  \n",
       "3                 sage software  599.99  \n",
       "4     carry-a-tune technologies   99.99  "
      ]
     },
     "metadata": {},
     "output_type": "display_data"
    },
    {
     "name": "stdout",
     "output_type": "stream",
     "text": [
      "Dataset b\n"
     ]
    },
    {
     "data": {
      "text/html": [
       "<div>\n",
       "<style scoped>\n",
       "    .dataframe tbody tr th:only-of-type {\n",
       "        vertical-align: middle;\n",
       "    }\n",
       "\n",
       "    .dataframe tbody tr th {\n",
       "        vertical-align: top;\n",
       "    }\n",
       "\n",
       "    .dataframe thead th {\n",
       "        text-align: right;\n",
       "    }\n",
       "</style>\n",
       "<table border=\"1\" class=\"dataframe\">\n",
       "  <thead>\n",
       "    <tr style=\"text-align: right;\">\n",
       "      <th></th>\n",
       "      <th>title</th>\n",
       "      <th>manufacturer</th>\n",
       "      <th>price</th>\n",
       "    </tr>\n",
       "    <tr>\n",
       "      <th>__id</th>\n",
       "      <th></th>\n",
       "      <th></th>\n",
       "      <th></th>\n",
       "    </tr>\n",
       "  </thead>\n",
       "  <tbody>\n",
       "    <tr>\n",
       "      <th>0</th>\n",
       "      <td>learning quickbooks 2007</td>\n",
       "      <td>intuit</td>\n",
       "      <td>38.99</td>\n",
       "    </tr>\n",
       "    <tr>\n",
       "      <th>1</th>\n",
       "      <td>superstart ! fun with reading &amp; writing !</td>\n",
       "      <td>&lt;NA&gt;</td>\n",
       "      <td>8.49</td>\n",
       "    </tr>\n",
       "    <tr>\n",
       "      <th>2</th>\n",
       "      <td>qb pos 6.0 basic software</td>\n",
       "      <td>intuit</td>\n",
       "      <td>637.99</td>\n",
       "    </tr>\n",
       "    <tr>\n",
       "      <th>3</th>\n",
       "      <td>math missions : the amazing arcade adventure ( grades 3-5 )</td>\n",
       "      <td>&lt;NA&gt;</td>\n",
       "      <td>12.95</td>\n",
       "    </tr>\n",
       "    <tr>\n",
       "      <th>4</th>\n",
       "      <td>production prem cs3 mac upgrad</td>\n",
       "      <td>adobe software</td>\n",
       "      <td>805.99</td>\n",
       "    </tr>\n",
       "  </tbody>\n",
       "</table>\n",
       "</div>"
      ],
      "text/plain": [
       "                                                            title  \\\n",
       "__id                                                                \n",
       "0                                        learning quickbooks 2007   \n",
       "1                       superstart ! fun with reading & writing !   \n",
       "2                                       qb pos 6.0 basic software   \n",
       "3     math missions : the amazing arcade adventure ( grades 3-5 )   \n",
       "4                                  production prem cs3 mac upgrad   \n",
       "\n",
       "        manufacturer   price  \n",
       "__id                          \n",
       "0             intuit   38.99  \n",
       "1               <NA>    8.49  \n",
       "2             intuit  637.99  \n",
       "3               <NA>   12.95  \n",
       "4     adobe software  805.99  "
      ]
     },
     "metadata": {},
     "output_type": "display_data"
    },
    {
     "name": "stdout",
     "output_type": "stream",
     "text": [
      "Dataset record-id pairs\n"
     ]
    },
    {
     "data": {
      "text/html": [
       "<div>\n",
       "<style scoped>\n",
       "    .dataframe tbody tr th:only-of-type {\n",
       "        vertical-align: middle;\n",
       "    }\n",
       "\n",
       "    .dataframe tbody tr th {\n",
       "        vertical-align: top;\n",
       "    }\n",
       "\n",
       "    .dataframe thead th {\n",
       "        text-align: right;\n",
       "    }\n",
       "</style>\n",
       "<table border=\"1\" class=\"dataframe\">\n",
       "  <thead>\n",
       "    <tr style=\"text-align: right;\">\n",
       "      <th></th>\n",
       "      <th>a.rid</th>\n",
       "      <th>b.rid</th>\n",
       "    </tr>\n",
       "    <tr>\n",
       "      <th>pid</th>\n",
       "      <th></th>\n",
       "      <th></th>\n",
       "    </tr>\n",
       "  </thead>\n",
       "  <tbody>\n",
       "    <tr>\n",
       "      <th>0</th>\n",
       "      <td>393</td>\n",
       "      <td>831</td>\n",
       "    </tr>\n",
       "    <tr>\n",
       "      <th>1</th>\n",
       "      <td>559</td>\n",
       "      <td>324</td>\n",
       "    </tr>\n",
       "    <tr>\n",
       "      <th>2</th>\n",
       "      <td>558</td>\n",
       "      <td>3023</td>\n",
       "    </tr>\n",
       "    <tr>\n",
       "      <th>3</th>\n",
       "      <td>762</td>\n",
       "      <td>1618</td>\n",
       "    </tr>\n",
       "    <tr>\n",
       "      <th>4</th>\n",
       "      <td>1262</td>\n",
       "      <td>2860</td>\n",
       "    </tr>\n",
       "  </tbody>\n",
       "</table>\n",
       "</div>"
      ],
      "text/plain": [
       "     a.rid  b.rid\n",
       "pid              \n",
       "0      393    831\n",
       "1      559    324\n",
       "2      558   3023\n",
       "3      762   1618\n",
       "4     1262   2860"
      ]
     },
     "metadata": {},
     "output_type": "display_data"
    },
    {
     "name": "stdout",
     "output_type": "stream",
     "text": [
      "Dataset grand truth labels\n"
     ]
    },
    {
     "data": {
      "text/plain": [
       "pid\n",
       "0    False\n",
       "1    False\n",
       "2    False\n",
       "3    False\n",
       "4    False\n",
       "Name: label, dtype: bool"
      ]
     },
     "metadata": {},
     "output_type": "display_data"
    },
    {
     "name": "stdout",
     "output_type": "stream",
     "text": [
      "Test DATA SIZE = 2293\n"
     ]
    }
   ],
   "source": [
    "from pine.dataset import load_dataset\n",
    "\n",
    "\n",
    "dataset_root_dir = \"data/dataset\"\n",
    "dataset = load_dataset(target_dataset_name, dataset_root_dir)\n",
    "print(\"Dataset a\")\n",
    "display(dataset.test.records.a.head())\n",
    "print(\"Dataset b\")\n",
    "display(dataset.test.records.b.head())\n",
    "print(\"Dataset record-id pairs\")\n",
    "display(dataset.test.record_id_pairs.head())\n",
    "print(\"Dataset grand truth labels\")\n",
    "display(dataset.test.labels.head())\n",
    "print(\"Test DATA SIZE =\", len(dataset.test.record_id_pairs))"
   ]
  },
  {
   "cell_type": "code",
   "execution_count": 10,
   "metadata": {},
   "outputs": [],
   "source": [
    "# label = match\n",
    "match_label_pid = dataset.test.labels[dataset.test.labels == True].index\n",
    "match_label_record_pair_id = dataset.test.record_id_pairs.loc[match_label_pid]\n",
    "# label = unmatch\n",
    "unmatch_label_pid = dataset.test.labels[dataset.test.labels == False].index\n",
    "unmatch_label_record_pair_id = dataset.test.record_id_pairs.loc[unmatch_label_pid]"
   ]
  },
  {
   "cell_type": "markdown",
   "metadata": {},
   "source": [
    "### Making explanation"
   ]
  },
  {
   "cell_type": "code",
   "execution_count": 11,
   "metadata": {},
   "outputs": [],
   "source": [
    "import pandas as pd\n",
    "from pine.entity import Entity, EntityPair\n",
    "from pine.explainer import LimeResultPair\n",
    "from pine.explainer.pine_explainer import make_explanation"
   ]
  },
  {
   "cell_type": "code",
   "execution_count": 12,
   "metadata": {},
   "outputs": [],
   "source": [
    "def explain_records(\n",
    "    record_left: pd.DataFrame, record_right: pd.DataFrame, proba_fn, topk=5\n",
    "):\n",
    "    # Convert dataset to the format that the matcher function can handle\n",
    "    entity_left = Entity.from_dataframe(record_left)\n",
    "    entity_right = Entity.from_dataframe(record_right)\n",
    "    entity_pair = EntityPair(entity_left, entity_right)\n",
    "    # Make explanation\n",
    "    explanation, entity_pair_marged = make_explanation(entity_pair, proba_fn, topk)\n",
    "    return explanation, entity_pair_marged\n",
    "\n",
    "\n",
    "record_left = dataset.test.records.a.loc[[match_label_record_pair_id.iloc[0][\"a.rid\"]]]\n",
    "record_right = dataset.test.records.b.loc[[match_label_record_pair_id.iloc[0][\"b.rid\"]]]\n",
    "explanation, entity_pair_marged = explain_records(record_left, record_right, proba_fn)"
   ]
  },
  {
   "cell_type": "code",
   "execution_count": 13,
   "metadata": {},
   "outputs": [
    {
     "data": {
      "text/plain": [
       "'Records'"
      ]
     },
     "metadata": {},
     "output_type": "display_data"
    },
    {
     "data": {
      "text/html": [
       "<div>\n",
       "<style scoped>\n",
       "    .dataframe tbody tr th:only-of-type {\n",
       "        vertical-align: middle;\n",
       "    }\n",
       "\n",
       "    .dataframe tbody tr th {\n",
       "        vertical-align: top;\n",
       "    }\n",
       "\n",
       "    .dataframe thead th {\n",
       "        text-align: right;\n",
       "    }\n",
       "</style>\n",
       "<table border=\"1\" class=\"dataframe\">\n",
       "  <thead>\n",
       "    <tr style=\"text-align: right;\">\n",
       "      <th></th>\n",
       "      <th>title</th>\n",
       "      <th>manufacturer</th>\n",
       "      <th>price</th>\n",
       "    </tr>\n",
       "    <tr>\n",
       "      <th>__id</th>\n",
       "      <th></th>\n",
       "      <th></th>\n",
       "      <th></th>\n",
       "    </tr>\n",
       "  </thead>\n",
       "  <tbody>\n",
       "    <tr>\n",
       "      <th>0</th>\n",
       "      <td>sims 2 glamour life stuff pack</td>\n",
       "      <td>aspyr media</td>\n",
       "      <td>24.99</td>\n",
       "    </tr>\n",
       "  </tbody>\n",
       "</table>\n",
       "</div>"
      ],
      "text/plain": [
       "                               title manufacturer  price\n",
       "__id                                                    \n",
       "0     sims 2 glamour life stuff pack  aspyr media  24.99"
      ]
     },
     "metadata": {},
     "output_type": "display_data"
    },
    {
     "data": {
      "text/html": [
       "<div>\n",
       "<style scoped>\n",
       "    .dataframe tbody tr th:only-of-type {\n",
       "        vertical-align: middle;\n",
       "    }\n",
       "\n",
       "    .dataframe tbody tr th {\n",
       "        vertical-align: top;\n",
       "    }\n",
       "\n",
       "    .dataframe thead th {\n",
       "        text-align: right;\n",
       "    }\n",
       "</style>\n",
       "<table border=\"1\" class=\"dataframe\">\n",
       "  <thead>\n",
       "    <tr style=\"text-align: right;\">\n",
       "      <th></th>\n",
       "      <th>title</th>\n",
       "      <th>manufacturer</th>\n",
       "      <th>price</th>\n",
       "    </tr>\n",
       "    <tr>\n",
       "      <th>__id</th>\n",
       "      <th></th>\n",
       "      <th></th>\n",
       "      <th></th>\n",
       "    </tr>\n",
       "  </thead>\n",
       "  <tbody>\n",
       "    <tr>\n",
       "      <th>0</th>\n",
       "      <td>aspyr media inc sims 2 glamour life stuff pack</td>\n",
       "      <td></td>\n",
       "      <td>23.44</td>\n",
       "    </tr>\n",
       "  </tbody>\n",
       "</table>\n",
       "</div>"
      ],
      "text/plain": [
       "                                               title manufacturer  price\n",
       "__id                                                                    \n",
       "0     aspyr media inc sims 2 glamour life stuff pack               23.44"
      ]
     },
     "metadata": {},
     "output_type": "display_data"
    },
    {
     "data": {
      "text/plain": [
       "'Explanation summary'"
      ]
     },
     "metadata": {},
     "output_type": "display_data"
    },
    {
     "data": {
      "text/plain": [
       "'match_score 0.89081871509552'"
      ]
     },
     "metadata": {},
     "output_type": "display_data"
    },
    {
     "data": {
      "text/html": [
       "<div>\n",
       "<style scoped>\n",
       "    .dataframe tbody tr th:only-of-type {\n",
       "        vertical-align: middle;\n",
       "    }\n",
       "\n",
       "    .dataframe tbody tr th {\n",
       "        vertical-align: top;\n",
       "    }\n",
       "\n",
       "    .dataframe thead th {\n",
       "        text-align: right;\n",
       "    }\n",
       "</style>\n",
       "<table border=\"1\" class=\"dataframe\">\n",
       "  <thead>\n",
       "    <tr style=\"text-align: right;\">\n",
       "      <th></th>\n",
       "      <th>token_left</th>\n",
       "      <th>token_right</th>\n",
       "      <th>score</th>\n",
       "    </tr>\n",
       "  </thead>\n",
       "  <tbody>\n",
       "    <tr>\n",
       "      <th>0</th>\n",
       "      <td>aspyr</td>\n",
       "      <td>aspyr</td>\n",
       "      <td>0.014076</td>\n",
       "    </tr>\n",
       "    <tr>\n",
       "      <th>1</th>\n",
       "      <td>24.99</td>\n",
       "      <td>23.44</td>\n",
       "      <td>-0.009165</td>\n",
       "    </tr>\n",
       "    <tr>\n",
       "      <th>2</th>\n",
       "      <td>life</td>\n",
       "      <td>life</td>\n",
       "      <td>0.005146</td>\n",
       "    </tr>\n",
       "    <tr>\n",
       "      <th>3</th>\n",
       "      <td>glamour</td>\n",
       "      <td>glamour</td>\n",
       "      <td>0.000068</td>\n",
       "    </tr>\n",
       "    <tr>\n",
       "      <th>4</th>\n",
       "      <td>2</td>\n",
       "      <td>2</td>\n",
       "      <td>0.000051</td>\n",
       "    </tr>\n",
       "  </tbody>\n",
       "</table>\n",
       "</div>"
      ],
      "text/plain": [
       "  token_left token_right     score\n",
       "0      aspyr       aspyr  0.014076\n",
       "1      24.99       23.44 -0.009165\n",
       "2       life        life  0.005146\n",
       "3    glamour     glamour  0.000068\n",
       "4          2           2  0.000051"
      ]
     },
     "metadata": {},
     "output_type": "display_data"
    }
   ],
   "source": [
    "def display_explanation(explanation: LimeResultPair, entity_pair: EntityPair):\n",
    "    display(\"Records\")\n",
    "    display(entity_pair.entity_l.to_dataframe())\n",
    "    display(entity_pair.entity_r.to_dataframe())\n",
    "    display(\"Explanation summary\")\n",
    "    display(f\"match_score {explanation.match_score}\")\n",
    "    token_pair_attributions = []\n",
    "    for i, attr in enumerate(explanation.attributions):\n",
    "        attribution = {}\n",
    "        if entity_pair.merged_segment_list[attr.index].segment_list_in_l:\n",
    "            attribution[\"token_left\"] = entity_pair.entity_l.get_segment_label(\n",
    "                entity_pair.merged_segment_list[attr.index].segment_list_in_l[0]\n",
    "            )\n",
    "        else:\n",
    "            attribution[\"token_left\"] = \"\"\n",
    "        if entity_pair.merged_segment_list[attr.index].segment_list_in_r:\n",
    "            attribution[\"token_right\"] = entity_pair.entity_r.get_segment_label(\n",
    "                entity_pair.merged_segment_list[attr.index].segment_list_in_r[0]\n",
    "            )\n",
    "        else:\n",
    "            attribution[\"token_right\"] = \"\"\n",
    "        attribution[\"score\"] = attr.score\n",
    "        token_pair_attributions.append(attribution)\n",
    "    display(pd.DataFrame(token_pair_attributions))\n",
    "\n",
    "\n",
    "display_explanation(explanation, entity_pair_marged)"
   ]
  },
  {
   "cell_type": "code",
   "execution_count": 14,
   "metadata": {},
   "outputs": [
    {
     "data": {
      "text/plain": [
       "'Records'"
      ]
     },
     "metadata": {},
     "output_type": "display_data"
    },
    {
     "data": {
      "text/html": [
       "<div>\n",
       "<style scoped>\n",
       "    .dataframe tbody tr th:only-of-type {\n",
       "        vertical-align: middle;\n",
       "    }\n",
       "\n",
       "    .dataframe tbody tr th {\n",
       "        vertical-align: top;\n",
       "    }\n",
       "\n",
       "    .dataframe thead th {\n",
       "        text-align: right;\n",
       "    }\n",
       "</style>\n",
       "<table border=\"1\" class=\"dataframe\">\n",
       "  <thead>\n",
       "    <tr style=\"text-align: right;\">\n",
       "      <th></th>\n",
       "      <th>title</th>\n",
       "      <th>manufacturer</th>\n",
       "      <th>price</th>\n",
       "    </tr>\n",
       "    <tr>\n",
       "      <th>__id</th>\n",
       "      <th></th>\n",
       "      <th></th>\n",
       "      <th></th>\n",
       "    </tr>\n",
       "  </thead>\n",
       "  <tbody>\n",
       "    <tr>\n",
       "      <th>0</th>\n",
       "      <td>microsoft visual studio test agent 2005 cd 1 processor license</td>\n",
       "      <td>microsoft software</td>\n",
       "      <td>5099.0</td>\n",
       "    </tr>\n",
       "  </tbody>\n",
       "</table>\n",
       "</div>"
      ],
      "text/plain": [
       "                                                               title  \\\n",
       "__id                                                                   \n",
       "0     microsoft visual studio test agent 2005 cd 1 processor license   \n",
       "\n",
       "            manufacturer   price  \n",
       "__id                              \n",
       "0     microsoft software  5099.0  "
      ]
     },
     "metadata": {},
     "output_type": "display_data"
    },
    {
     "data": {
      "text/html": [
       "<div>\n",
       "<style scoped>\n",
       "    .dataframe tbody tr th:only-of-type {\n",
       "        vertical-align: middle;\n",
       "    }\n",
       "\n",
       "    .dataframe tbody tr th {\n",
       "        vertical-align: top;\n",
       "    }\n",
       "\n",
       "    .dataframe thead th {\n",
       "        text-align: right;\n",
       "    }\n",
       "</style>\n",
       "<table border=\"1\" class=\"dataframe\">\n",
       "  <thead>\n",
       "    <tr style=\"text-align: right;\">\n",
       "      <th></th>\n",
       "      <th>title</th>\n",
       "      <th>manufacturer</th>\n",
       "      <th>price</th>\n",
       "    </tr>\n",
       "    <tr>\n",
       "      <th>__id</th>\n",
       "      <th></th>\n",
       "      <th></th>\n",
       "      <th></th>\n",
       "    </tr>\n",
       "  </thead>\n",
       "  <tbody>\n",
       "    <tr>\n",
       "      <th>0</th>\n",
       "      <td>individual software professor teaches microsoft office 2007</td>\n",
       "      <td></td>\n",
       "      <td>29.99</td>\n",
       "    </tr>\n",
       "  </tbody>\n",
       "</table>\n",
       "</div>"
      ],
      "text/plain": [
       "                                                            title  \\\n",
       "__id                                                                \n",
       "0     individual software professor teaches microsoft office 2007   \n",
       "\n",
       "     manufacturer  price  \n",
       "__id                      \n",
       "0                  29.99  "
      ]
     },
     "metadata": {},
     "output_type": "display_data"
    },
    {
     "data": {
      "text/plain": [
       "'Explanation summary'"
      ]
     },
     "metadata": {},
     "output_type": "display_data"
    },
    {
     "data": {
      "text/plain": [
       "'match_score -0.9930281639099121'"
      ]
     },
     "metadata": {},
     "output_type": "display_data"
    },
    {
     "data": {
      "text/html": [
       "<div>\n",
       "<style scoped>\n",
       "    .dataframe tbody tr th:only-of-type {\n",
       "        vertical-align: middle;\n",
       "    }\n",
       "\n",
       "    .dataframe tbody tr th {\n",
       "        vertical-align: top;\n",
       "    }\n",
       "\n",
       "    .dataframe thead th {\n",
       "        text-align: right;\n",
       "    }\n",
       "</style>\n",
       "<table border=\"1\" class=\"dataframe\">\n",
       "  <thead>\n",
       "    <tr style=\"text-align: right;\">\n",
       "      <th></th>\n",
       "      <th>token_left</th>\n",
       "      <th>token_right</th>\n",
       "      <th>score</th>\n",
       "    </tr>\n",
       "  </thead>\n",
       "  <tbody>\n",
       "    <tr>\n",
       "      <th>0</th>\n",
       "      <td>5099.0</td>\n",
       "      <td></td>\n",
       "      <td>-0.000573</td>\n",
       "    </tr>\n",
       "    <tr>\n",
       "      <th>1</th>\n",
       "      <td>agent</td>\n",
       "      <td>office</td>\n",
       "      <td>-0.000214</td>\n",
       "    </tr>\n",
       "    <tr>\n",
       "      <th>2</th>\n",
       "      <td>microsoft</td>\n",
       "      <td>software</td>\n",
       "      <td>-0.000184</td>\n",
       "    </tr>\n",
       "    <tr>\n",
       "      <th>3</th>\n",
       "      <td>processor</td>\n",
       "      <td>microsoft</td>\n",
       "      <td>-0.000055</td>\n",
       "    </tr>\n",
       "    <tr>\n",
       "      <th>4</th>\n",
       "      <td>cd</td>\n",
       "      <td></td>\n",
       "      <td>-0.000045</td>\n",
       "    </tr>\n",
       "  </tbody>\n",
       "</table>\n",
       "</div>"
      ],
      "text/plain": [
       "  token_left token_right     score\n",
       "0     5099.0             -0.000573\n",
       "1      agent      office -0.000214\n",
       "2  microsoft    software -0.000184\n",
       "3  processor   microsoft -0.000055\n",
       "4         cd             -0.000045"
      ]
     },
     "metadata": {},
     "output_type": "display_data"
    }
   ],
   "source": [
    "record_left = dataset.test.records.a.loc[\n",
    "    [unmatch_label_record_pair_id.iloc[0][\"a.rid\"]]\n",
    "]\n",
    "record_right = dataset.test.records.b.loc[\n",
    "    [unmatch_label_record_pair_id.iloc[0][\"b.rid\"]]\n",
    "]\n",
    "explanation, entity_pair_marged = explain_records(record_left, record_right, proba_fn)\n",
    "display_explanation(explanation, entity_pair_marged)"
   ]
  }
 ],
 "metadata": {
  "kernelspec": {
   "display_name": "Python 3",
   "language": "python",
   "name": "python3"
  },
  "language_info": {
   "codemirror_mode": {
    "name": "ipython",
    "version": 3
   },
   "file_extension": ".py",
   "mimetype": "text/x-python",
   "name": "python",
   "nbconvert_exporter": "python",
   "pygments_lexer": "ipython3",
   "version": "3.7.5"
  }
 },
 "nbformat": 4,
 "nbformat_minor": 2
}
